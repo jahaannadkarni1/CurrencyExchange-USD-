{
 "cells": [
  {
   "cell_type": "code",
   "execution_count": null,
   "metadata": {},
   "outputs": [
    {
     "name": "stdout",
     "output_type": "stream",
     "text": [
      "\n"
     ]
    }
   ],
   "source": [
    "# Author: Jahaan\n",
    "# Description: This program converts the amount of US dollars you want to convert to another currency type\n",
    "while True:\n",
    "    print()\n",
    "    US_dollars = input(\"How many US Dollars do you want to convert?- Type a value or 'done' to exit:\")\n",
    "    if US_dollars == 'done' :\n",
    "        print ('\\nThanks for using the converter!\\n')\n",
    "        break\n",
    "    if US_dollars.isdigit() == False:\n",
    "            continue\n",
    "        \n",
    "    Currency_Name = input('Input the Currency Name:')\n",
    "    Exchange_Rate = input('Input the Exchange Rate:')\n",
    "    if Exchange_Rate.isdigit() == False:\n",
    "                continue\n",
    "    \n",
    "# Result\n",
    "    print('\\nThe Exchange Amount is' , float(US_dollars) * float(Exchange_Rate),  str(Currency_Name))\n",
    "    print('\\nThanks for using converter!\\n')"
   ]
  },
  {
   "cell_type": "code",
   "execution_count": null,
   "metadata": {},
   "outputs": [],
   "source": []
  }
 ],
 "metadata": {
  "kernelspec": {
   "display_name": "Python 3",
   "language": "python",
   "name": "python3"
  },
  "language_info": {
   "codemirror_mode": {
    "name": "ipython",
    "version": 3
   },
   "file_extension": ".py",
   "mimetype": "text/x-python",
   "name": "python",
   "nbconvert_exporter": "python",
   "pygments_lexer": "ipython3",
   "version": "3.8.3"
  }
 },
 "nbformat": 4,
 "nbformat_minor": 2
}
